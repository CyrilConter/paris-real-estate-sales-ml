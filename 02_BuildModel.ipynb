{
 "cells": [
  {
   "cell_type": "markdown",
   "metadata": {},
   "source": [
    "# Price Prediction\n",
    "\n",
    "In the previous notebook ([01_CollectData](01_CollectData.ipynb)), we have collected data in order to build a price prediction model for real estates at Paris.\n",
    "\n",
    "Now, our work will be divided into 2 steps:\n",
    "* Data Analysis\n",
    "* Build prediction model"
   ]
  },
  {
   "cell_type": "markdown",
   "metadata": {},
   "source": [
    "## Data Analysis"
   ]
  },
  {
   "cell_type": "markdown",
   "metadata": {},
   "source": [
    "## Build prediction model"
   ]
  }
 ],
 "metadata": {
  "language_info": {
   "name": "python"
  },
  "orig_nbformat": 4
 },
 "nbformat": 4,
 "nbformat_minor": 2
}
