{
 "cells": [
  {
   "cell_type": "markdown",
   "metadata": {},
   "source": [
    "# Collect Data\n",
    "\n",
    "The first step in building a price prediction model is to collect data.\n",
    "\n",
    "\n",
    "French governement provides real estate sales data on its open data platform: <https://www.data.gouv.fr/fr/datasets/demandes-de-valeurs-foncieres/> \\\n",
    "A file is provided for each year, since 2016, and includes all real estate sales data for France. \\\n",
    "In consequence, each file is large: more than 400 Mo per file for last years; a total of around 2 Go of data for the last 6 years. \\\n",
    "In our case, we are interested only by sales done in Paris for our prediction model, so only a part of each file is required.\n",
    "\n",
    "\n",
    "<b>Notebook objective:</b> create a unique dataset from all the files provided, but keeping only data from Paris.\n",
    "\n",
    "Note: \n",
    "* In this notebook, we focus only in filtering data based on the sales location.\n",
    "* We will focus on data analysis for building a prediction model in a separated and dedicated notebook => [02_BuildModel](02_BuildModel.ipynb)"
   ]
  },
  {
   "cell_type": "markdown",
   "metadata": {},
   "source": [
    "## Data Analysis\n",
    "\n",
    "Analyze dataset structure and content to find a way to get only sales data from Paris."
   ]
  },
  {
   "cell_type": "code",
   "execution_count": 98,
   "metadata": {},
   "outputs": [
    {
     "name": "stdout",
     "output_type": "stream",
     "text": [
      "DataFrame Shape: (1210569, 43)\n"
     ]
    }
   ],
   "source": [
    "import pandas as pd\n",
    "\n",
    "df_data = pd.read_csv('https://www.data.gouv.fr/fr/datasets/r/817204ac-2202-4b4a-98e7-4184d154d98c', sep='|', low_memory=False)\n",
    "print(f'DataFrame Shape: {df_data.shape}')"
   ]
  },
  {
   "cell_type": "markdown",
   "metadata": {},
   "source": [
    "The dataset provides 43 columns.\n",
    "\n",
    "Check the columns to find possible olumns to filter data on sales location:"
   ]
  },
  {
   "cell_type": "code",
   "execution_count": 99,
   "metadata": {},
   "outputs": [
    {
     "name": "stdout",
     "output_type": "stream",
     "text": [
      "Index(['Code service CH', 'Reference document', '1 Articles CGI',\n",
      "       '2 Articles CGI', '3 Articles CGI', '4 Articles CGI', '5 Articles CGI',\n",
      "       'No disposition', 'Date mutation', 'Nature mutation', 'Valeur fonciere',\n",
      "       'No voie', 'B/T/Q', 'Type de voie', 'Code voie', 'Voie', 'Code postal',\n",
      "       'Commune', 'Code departement', 'Code commune', 'Prefixe de section',\n",
      "       'Section', 'No plan', 'No Volume', '1er lot',\n",
      "       'Surface Carrez du 1er lot', '2eme lot', 'Surface Carrez du 2eme lot',\n",
      "       '3eme lot', 'Surface Carrez du 3eme lot', '4eme lot',\n",
      "       'Surface Carrez du 4eme lot', '5eme lot', 'Surface Carrez du 5eme lot',\n",
      "       'Nombre de lots', 'Code type local', 'Type local', 'Identifiant local',\n",
      "       'Surface reelle bati', 'Nombre pieces principales', 'Nature culture',\n",
      "       'Nature culture speciale', 'Surface terrain'],\n",
      "      dtype='object')\n"
     ]
    }
   ],
   "source": [
    "print(df_data.columns)"
   ]
  },
  {
   "cell_type": "markdown",
   "metadata": {},
   "source": [
    "The following columns are related to sales location:\n",
    "* 'Code Postal' (postal code)\n",
    "* 'Commune' (city name)\n",
    "* 'Code departement' (french subarea)\n",
    "\n",
    "We analyze each column to check if we can filter on:"
   ]
  },
  {
   "cell_type": "code",
   "execution_count": 100,
   "metadata": {},
   "outputs": [
    {
     "name": "stdout",
     "output_type": "stream",
     "text": [
      "Code departement: object\n",
      "['01' '02' '03' '04' '05' '06' '07' '08' '09' '10' '11' '12' '13' '14'\n",
      " '15' '16' '17' '18' '19' '21' '22' '23' '24' '25' '26' '27' '28' '29'\n",
      " '2A' '2B' '30' '31' '32' '33' '34' '35' '36' '37' '38' '39' '40' '41'\n",
      " '42' '43' '44' '45' '46' '47' '48' '49' '50' '51' '52' '53' '54' '55'\n",
      " '56' '58' '59' '60' '61' '62' '63' '64' '65' '66' '69' '70' '71' '72'\n",
      " '73' '74' '76' '77' '78' '79' '80' '81' '82' '83' '84' '85' '86' '87'\n",
      " '88' '89' '90' '91' '92' '93' '94' '95' '971' '972' '973' '974' '75']\n",
      "---------------\n",
      "Code postal: float64\n",
      "[ 1370.  1290.  1310. ... 75013. 75012. 75011.]\n",
      "---------------\n",
      "Commune: object\n",
      "['VAL-REVERMONT' 'BEY' 'BUELLAS' ... 'PARIS 15' 'PARIS 16' 'PARIS 11']\n",
      "---------------\n"
     ]
    }
   ],
   "source": [
    "location_cols = ['Code departement', 'Code postal', 'Commune']\n",
    "for col in location_cols:\n",
    "    print(f'{col}: {df_data[col].dtype}')\n",
    "    print(df_data[col].unique())\n",
    "    print('---------------')"
   ]
  },
  {
   "cell_type": "markdown",
   "metadata": {},
   "source": [
    "Report :\n",
    "* 'Code departement': is a french sub area identifier. Paris is identied with the code 75 (the code used as the 2 first characters of postal code)\n",
    "* 'Code postal': Described as a float, it is in fact a in integer that starts with the 'code departement' => french nomenclature\n",
    "* 'Commune': is the city name => We can filter on the name begining by 'PARIS'"
   ]
  },
  {
   "cell_type": "markdown",
   "metadata": {},
   "source": [
    "### Code departement (french sub area)"
   ]
  },
  {
   "cell_type": "code",
   "execution_count": 101,
   "metadata": {},
   "outputs": [
    {
     "name": "stdout",
     "output_type": "stream",
     "text": [
      "Code departement = 75: 33567 rows\n",
      "PARIS 16    3448\n",
      "PARIS 15    3385\n",
      "PARIS 18    3046\n",
      "PARIS 17    2986\n",
      "PARIS 14    2514\n",
      "PARIS 11    2389\n",
      "PARIS 19    2126\n",
      "PARIS 20    1993\n",
      "PARIS 12    1616\n",
      "PARIS 10    1576\n",
      "PARIS 13    1544\n",
      "PARIS 09    1312\n",
      "PARIS 07    1208\n",
      "PARIS 08    1084\n",
      "PARIS 06     764\n",
      "PARIS 05     694\n",
      "PARIS 03     644\n",
      "PARIS 04     469\n",
      "PARIS 02     458\n",
      "PARIS 01     311\n",
      "Name: Commune, dtype: int64\n"
     ]
    }
   ],
   "source": [
    "df_data_dep = df_data.loc[df_data[\"Code departement\"] == '75']\n",
    "print(f'Code departement = 75: {df_data_dep.shape[0]} rows')\n",
    "print(df_data_dep['Commune'].value_counts())"
   ]
  },
  {
   "cell_type": "markdown",
   "metadata": {},
   "source": [
    "### Code Postal (Postal code)"
   ]
  },
  {
   "cell_type": "markdown",
   "metadata": {},
   "source": [
    "By default, a postal code starts with the department code. \\\n",
    "So, at first try we filter based on 'Code postal' column beggining with '75':"
   ]
  },
  {
   "cell_type": "code",
   "execution_count": 102,
   "metadata": {},
   "outputs": [
    {
     "name": "stdout",
     "output_type": "stream",
     "text": [
      "Code postal - Start with \"75\": 33789 rows\n",
      "75016.0    3460\n",
      "75015.0    3385\n",
      "75018.0    3045\n",
      "75017.0    2982\n",
      "75014.0    2513\n",
      "75011.0    2389\n",
      "75019.0    2123\n",
      "75020.0    1991\n",
      "75012.0    1611\n",
      "75010.0    1576\n",
      "75013.0    1464\n",
      "75009.0    1312\n",
      "75007.0    1140\n",
      "75008.0    1084\n",
      "75006.0     764\n",
      "75005.0     694\n",
      "75003.0     644\n",
      "75004.0     468\n",
      "75002.0     458\n",
      "75001.0     311\n",
      "7560.0      111\n",
      "7590.0      101\n",
      "7510.0      101\n",
      "7530.0       34\n",
      "7580.0       28\n",
      "Name: Code postal, dtype: int64\n"
     ]
    }
   ],
   "source": [
    "df_data_cp = df_data.loc[df_data['Code postal'].astype(str).str.startswith('75')]\n",
    "print(f'Code postal - Start with \"75\": {df_data_cp.shape[0]} rows')\n",
    "print(df_data_cp['Code postal'].value_counts())"
   ]
  },
  {
   "cell_type": "markdown",
   "metadata": {},
   "source": [
    "The previous code returns postal codes of Paris (75001 to 75020), but also postal codes of other cities :"
   ]
  },
  {
   "cell_type": "code",
   "execution_count": 103,
   "metadata": {},
   "outputs": [
    {
     "name": "stdout",
     "output_type": "stream",
     "text": [
      "MONTPEZAT-SOUS-BAUZON             76\n",
      "SAINT-ETIENNE-DE-LUGDARES         48\n",
      "LE ROUX                           35\n",
      "SAINT-LAURENT-LES-BAINS-LAVAL-    33\n",
      "CROS-DE-GEORAND                   29\n",
      "SAINTE-EULALIE                    29\n",
      "MAZAN-L'ABBAYE                    27\n",
      "SAINT-JEAN-LE-CENTENIER           26\n",
      "SAINT-CIRGUES-EN-MONTAGNE         15\n",
      "GENESTELLE                        13\n",
      "CELLIER-DU-LUC                     8\n",
      "MEZILHAC                           7\n",
      "VALLEES-D'ANTRAIGUES-ASPERJOC      6\n",
      "SAINT-ALBAN-EN-MONTAGNE            6\n",
      "LE PLAGNAL                         5\n",
      "AIZAC                              4\n",
      "LACHAMP-RAPHAEL                    3\n",
      "BERZEME                            2\n",
      "BORNE                              1\n",
      "LAVIOLLE                           1\n",
      "USCLADES-ET-RIEUTORD               1\n",
      "Name: Commune, dtype: int64\n"
     ]
    }
   ],
   "source": [
    "df_cities = df_data_cp.loc[df_data_cp['Code postal'].astype(str).isin(['7560.0', '7590.0', '7510.0', '7530.0', '7580.0'])]\n",
    "print(df_cities['Commune'].value_counts())"
   ]
  },
  {
   "cell_type": "markdown",
   "metadata": {},
   "source": [
    "For the provided codes, the cities are not Paris.\n",
    "\n",
    "In fact, postal codes are, in France, normally defined on 5 characters : 2 characters for the department code + 3 characters specific to the city in this departement.\n",
    "\n",
    "So, in the original file, when a postal code is by example 7560 we should consider it as 07560 => department code 07.\n",
    "\n",
    "To get only sales for Paris postal code we have to filter on column 'Code postal' where:\n",
    "* length is 5 characters\n",
    "* and it starts with 75"
   ]
  },
  {
   "cell_type": "code",
   "execution_count": 104,
   "metadata": {},
   "outputs": [
    {
     "name": "stdout",
     "output_type": "stream",
     "text": [
      "Code postal - Start with \"75\": 33414 rows\n",
      "75016.0    3460\n",
      "75015.0    3385\n",
      "75018.0    3045\n",
      "75017.0    2982\n",
      "75014.0    2513\n",
      "75011.0    2389\n",
      "75019.0    2123\n",
      "75020.0    1991\n",
      "75012.0    1611\n",
      "75010.0    1576\n",
      "75013.0    1464\n",
      "75009.0    1312\n",
      "75007.0    1140\n",
      "75008.0    1084\n",
      "75006.0     764\n",
      "75005.0     694\n",
      "75003.0     644\n",
      "75004.0     468\n",
      "75002.0     458\n",
      "75001.0     311\n",
      "Name: Code postal, dtype: int64\n"
     ]
    }
   ],
   "source": [
    "is_cp_paris = df_data['Code postal'].astype(str).map(lambda cp: (cp != 'nan') & (len(cp.replace('.0', '')) == 5) & (cp.startswith('75')))\n",
    "df_data_cp = df_data.loc[is_cp_paris]\n",
    "print(f'Code postal - Start with \"75\": {df_data_cp.shape[0]} rows')\n",
    "print(df_data_cp['Code postal'].value_counts())"
   ]
  },
  {
   "cell_type": "markdown",
   "metadata": {},
   "source": [
    "Now we only have rows corresponding to one of the postal codes associated to Paris."
   ]
  },
  {
   "cell_type": "markdown",
   "metadata": {},
   "source": [
    "### Commune (City name)"
   ]
  },
  {
   "cell_type": "code",
   "execution_count": 105,
   "metadata": {},
   "outputs": [
    {
     "name": "stdout",
     "output_type": "stream",
     "text": [
      "Commune - Start with \"Paris\": 33643 rows\n",
      "PARIS 16           3448\n",
      "PARIS 15           3385\n",
      "PARIS 18           3046\n",
      "PARIS 17           2986\n",
      "PARIS 14           2514\n",
      "PARIS 11           2389\n",
      "PARIS 19           2126\n",
      "PARIS 20           1993\n",
      "PARIS 12           1616\n",
      "PARIS 10           1576\n",
      "PARIS 13           1544\n",
      "PARIS 09           1312\n",
      "PARIS 07           1208\n",
      "PARIS 08           1084\n",
      "PARIS 06            764\n",
      "PARIS 05            694\n",
      "PARIS 03            644\n",
      "PARIS 04            469\n",
      "PARIS 02            458\n",
      "PARIS 01            311\n",
      "PARISOT              47\n",
      "PARIS-L HOPITAL      29\n",
      "Name: Commune, dtype: int64\n"
     ]
    }
   ],
   "source": [
    "df_data_com = df_data.loc[df_data.Commune.str.startswith('PARIS')]\n",
    "print(f'Commune - Start with \"Paris\": {df_data_com.shape[0]} rows')\n",
    "print(df_data_com['Commune'].value_counts())"
   ]
  },
  {
   "cell_type": "markdown",
   "metadata": {},
   "source": [
    "We cannot filter only with city name starting with PARIS, because other cities have the same root string.\n",
    "\n",
    "But we see that for Paris, the city name is 'PARIS' + the 'arrondissement' code (Paris sub division), between 1 and 20. \\\n",
    "So we can filter using a dedicated list of city names corresponding only to Paris :"
   ]
  },
  {
   "cell_type": "code",
   "execution_count": 106,
   "metadata": {},
   "outputs": [
    {
     "name": "stdout",
     "output_type": "stream",
     "text": [
      "Commune - Start with \"Paris\": 33567 rows\n",
      "PARIS 16    3448\n",
      "PARIS 15    3385\n",
      "PARIS 18    3046\n",
      "PARIS 17    2986\n",
      "PARIS 14    2514\n",
      "PARIS 11    2389\n",
      "PARIS 19    2126\n",
      "PARIS 20    1993\n",
      "PARIS 12    1616\n",
      "PARIS 10    1576\n",
      "PARIS 13    1544\n",
      "PARIS 09    1312\n",
      "PARIS 07    1208\n",
      "PARIS 08    1084\n",
      "PARIS 06     764\n",
      "PARIS 05     694\n",
      "PARIS 03     644\n",
      "PARIS 04     469\n",
      "PARIS 02     458\n",
      "PARIS 01     311\n",
      "Name: Commune, dtype: int64\n"
     ]
    }
   ],
   "source": [
    "paris_arr = [f'PARIS {arr:02d}' for arr in range(1, 21)]\n",
    "\n",
    "df_data_com = df_data.loc[df_data.Commune.isin(paris_arr)]\n",
    "print(f'Commune - Start with \"Paris\": {df_data_com.shape[0]} rows')\n",
    "print(df_data_com['Commune'].value_counts())"
   ]
  },
  {
   "cell_type": "markdown",
   "metadata": {},
   "source": [
    "## Generate sample dataset\n",
    "In this section we generate a unique CSV file concataining all files provided by open data platform, and filtering to keep only Paris data.\n",
    "\n",
    "We use the 3 filters previously defined, combining them with 'OR' operator to keep rows where a column criteria is:\n",
    "* not filled in\n",
    "* not aligned to other columns criteria (by example postal code is correct for Paris, but not the department code)\n",
    "\n",
    "These cases will be processed during data analysis in 'build model' step of this project."
   ]
  },
  {
   "cell_type": "code",
   "execution_count": 107,
   "metadata": {},
   "outputs": [
    {
     "name": "stdout",
     "output_type": "stream",
     "text": [
      "-------------------\n",
      "Build sample: Start\n",
      "-------------------\n",
      "--- Process year: 2021\n",
      "\tImport - Shape: (1210569, 43)\n",
      "\tSample - Shape: (33586, 43)\n",
      "\tSample for 2021 is 2.77% of full dataset for 2021\n",
      "--- Process year: 2020\n",
      "\tImport - Shape: (3149482, 43)\n",
      "\tSample - Shape: (87910, 43)\n",
      "\tSample for 2020 is 2.79% of full dataset for 2020\n",
      "--- Process year: 2019\n",
      "\tImport - Shape: (3612746, 43)\n",
      "\tSample - Shape: (103561, 43)\n",
      "\tSample for 2019 is 2.87% of full dataset for 2019\n",
      "--- Process year: 2018\n",
      "\tImport - Shape: (3332865, 43)\n",
      "\tSample - Shape: (101590, 43)\n",
      "\tSample for 2018 is 3.05% of full dataset for 2018\n",
      "--- Process year: 2017\n",
      "\tImport - Shape: (3383409, 43)\n",
      "\tSample - Shape: (98335, 43)\n",
      "\tSample for 2017 is 2.91% of full dataset for 2017\n",
      "------------------\n",
      "Build sample: Done\n",
      "------------------\n"
     ]
    }
   ],
   "source": [
    "import os.path\n",
    "\n",
    "def build_sample(files: dict, output_path: str):\n",
    "    print('-------------------')\n",
    "    print('Build sample: Start')\n",
    "    print('-------------------')\n",
    "    if os.path.exists(output_path):\n",
    "        os.remove(output_path)\n",
    "\n",
    "    paris_arr = [f'PARIS {arrondissement:02d}' for arrondissement in range(1, 21)]\n",
    "    index = 0\n",
    "    for year, file in files.items():\n",
    "        print(f'--- Process year: {year}')\n",
    "\n",
    "        # load file\n",
    "        df = pd.read_csv(file, sep='|', low_memory=False)\n",
    "        print(f'\\tImport - Shape: {df.shape}')\n",
    "\n",
    "        # filter to get sample\n",
    "        paris_department = df['Code departement'] == 75\n",
    "        paris_postalcode = df_data['Code postal'].astype(str).map(lambda cp: (cp != 'nan') & (len(cp.replace('.0', '')) == 5) & (cp.startswith('75')))\n",
    "        paris_cityname = df.Commune.isin(paris_arr)\n",
    "        df_paris = df.loc[paris_department | paris_postalcode | paris_cityname]\n",
    "        print(f'\\tSample - Shape: {df_paris.shape}')        \n",
    "\n",
    "        # append to csv file\n",
    "        df_paris.to_csv(output_path, mode='a', header=(index>0))\n",
    "        index += 1\n",
    "        print(f'\\tSample for {year} is {round(100* df_paris.shape[0]/df.shape[0], 2)}% of full dataset for {year}')\n",
    "        del df, df_paris\n",
    "\n",
    "    print('------------------')\n",
    "    print('Build sample: Done')\n",
    "    print('------------------')\n",
    "\n",
    "files = {\n",
    "    '2021':'https://www.data.gouv.fr/fr/datasets/r/817204ac-2202-4b4a-98e7-4184d154d98c',\n",
    "    '2020':'https://www.data.gouv.fr/fr/datasets/r/90a98de0-f562-4328-aa16-fe0dd1dca60f',\n",
    "    '2019':'https://www.data.gouv.fr/fr/datasets/r/3004168d-bec4-44d9-a781-ef16f41856a2',\n",
    "    '2018':'https://www.data.gouv.fr/fr/datasets/r/1be77ca5-dc1b-4e50-af2b-0240147e0346',\n",
    "    '2017':'https://www.data.gouv.fr/fr/datasets/r/7161c9f2-3d91-4caf-afa2-cfe535807f04'\n",
    "}\n",
    "\n",
    "build_sample(files, './data/raw/real_estate_sales.csv')"
   ]
  }
 ],
 "metadata": {
  "interpreter": {
   "hash": "49abe15df48a06db906355805c09f8983e9996a9141d8eb4181ea19a88ce08b6"
  },
  "kernelspec": {
   "display_name": "Python 3.9.7 64-bit ('venv': venv)",
   "name": "python3"
  },
  "language_info": {
   "codemirror_mode": {
    "name": "ipython",
    "version": 3
   },
   "file_extension": ".py",
   "mimetype": "text/x-python",
   "name": "python",
   "nbconvert_exporter": "python",
   "pygments_lexer": "ipython3",
   "version": "3.9.7"
  },
  "orig_nbformat": 4
 },
 "nbformat": 4,
 "nbformat_minor": 2
}
