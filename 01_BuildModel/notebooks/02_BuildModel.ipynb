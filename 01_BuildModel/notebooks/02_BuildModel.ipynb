{
 "cells": [
  {
   "cell_type": "markdown",
   "metadata": {},
   "source": [
    "# Price Prediction\n",
    "\n",
    "In the previous notebook ([01_CollectData](01_CollectData.ipynb)), we have collected data in order to build a price prediction model for real estates at Paris.\n",
    "\n",
    "Now, our work will be divided into 2 steps:\n",
    "* Data Analysis\n",
    "* Build prediction model"
   ]
  },
  {
   "cell_type": "markdown",
   "metadata": {},
   "source": [
    "## Filter data"
   ]
  },
  {
   "cell_type": "markdown",
   "metadata": {},
   "source": [
    "In this section we will focus on filtering raw data to select only data that are in the scope of this project.<br />\n",
    "After filtering, these data will be saved in a dedicated data file that we will use for training our model.<br />\n",
    "Our aim is to make price predictions for:\n",
    "* Property type: Houses and appartments\n",
    "* Nature of the transaction: Sales"
   ]
  },
  {
   "cell_type": "code",
   "execution_count": 62,
   "metadata": {},
   "outputs": [
    {
     "name": "stdout",
     "output_type": "stream",
     "text": [
      "Index(['Unnamed: 0', 'Code service CH', 'Reference document', '1 Articles CGI',\n",
      "       '2 Articles CGI', '3 Articles CGI', '4 Articles CGI', '5 Articles CGI',\n",
      "       'No disposition', 'Date mutation', 'Nature mutation', 'Valeur fonciere',\n",
      "       'No voie', 'B/T/Q', 'Type de voie', 'Code voie', 'Voie', 'Code postal',\n",
      "       'Commune', 'Code departement', 'Code commune', 'Prefixe de section',\n",
      "       'Section', 'No plan', 'No Volume', '1er lot',\n",
      "       'Surface Carrez du 1er lot', '2eme lot', 'Surface Carrez du 2eme lot',\n",
      "       '3eme lot', 'Surface Carrez du 3eme lot', '4eme lot',\n",
      "       'Surface Carrez du 4eme lot', '5eme lot', 'Surface Carrez du 5eme lot',\n",
      "       'Nombre de lots', 'Code type local', 'Type local', 'Identifiant local',\n",
      "       'Surface reelle bati', 'Nombre pieces principales', 'Nature culture',\n",
      "       'Nature culture speciale', 'Surface terrain'],\n",
      "      dtype='object')\n"
     ]
    }
   ],
   "source": [
    "import pandas as pd\n",
    "\n",
    "raw_df = pd.read_csv('../data/raw/real_estate_sales.csv', low_memory=False)\n",
    "print(raw_df.columns)"
   ]
  },
  {
   "cell_type": "markdown",
   "metadata": {},
   "source": [
    "### Property type\n",
    "According the [Dataset Description](../references/notice-descriptive-du-fichier-dvf-20210809.pdf), the real estate type is defined in the `Type local` property in the dataset:"
   ]
  },
  {
   "cell_type": "code",
   "execution_count": 63,
   "metadata": {},
   "outputs": [
    {
     "data": {
      "text/plain": [
       "Appartement                                 211558\n",
       "Dépendance                                  103384\n",
       "Local industriel. commercial ou assimilé     32905\n",
       "Maison                                       19284\n",
       "Name: Type local, dtype: int64"
      ]
     },
     "execution_count": 63,
     "metadata": {},
     "output_type": "execute_result"
    }
   ],
   "source": [
    "raw_df['Type local'].value_counts()"
   ]
  },
  {
   "cell_type": "markdown",
   "metadata": {},
   "source": [
    "We are only interested by appartments (`Appartement`) or houses (`Maison`) real estates, so we filter data on this criteria:"
   ]
  },
  {
   "cell_type": "code",
   "execution_count": 64,
   "metadata": {},
   "outputs": [
    {
     "data": {
      "text/plain": [
       "Appartement    211558\n",
       "Maison          19284\n",
       "Name: Type local, dtype: int64"
      ]
     },
     "execution_count": 64,
     "metadata": {},
     "output_type": "execute_result"
    }
   ],
   "source": [
    "property_types = ['Appartement', 'Maison']\n",
    "raw_df = raw_df[raw_df['Type local'].isin(property_types)]\n",
    "raw_df['Type local'].value_counts()"
   ]
  },
  {
   "cell_type": "markdown",
   "metadata": {},
   "source": [
    "### Transaction type"
   ]
  },
  {
   "cell_type": "markdown",
   "metadata": {},
   "source": [
    "According the [Dataset Description](../references/notice-descriptive-du-fichier-dvf-20210809.pdf), the transaction type is defined in the `Nature mutation` property in the dataset:"
   ]
  },
  {
   "cell_type": "code",
   "execution_count": 65,
   "metadata": {},
   "outputs": [
    {
     "data": {
      "text/plain": [
       "Vente                                 225235\n",
       "Vente en l'état futur d'achèvement      3578\n",
       "Echange                                 1223\n",
       "Adjudication                             730\n",
       "Vente terrain à bâtir                     58\n",
       "Expropriation                             18\n",
       "Name: Nature mutation, dtype: int64"
      ]
     },
     "execution_count": 65,
     "metadata": {},
     "output_type": "execute_result"
    }
   ],
   "source": [
    "raw_df['Nature mutation'].value_counts()"
   ]
  },
  {
   "cell_type": "markdown",
   "metadata": {},
   "source": [
    "We are only interested by sales, corresponding to the values `Vente` or `Vente en l'état futur d'achèvement`:"
   ]
  },
  {
   "cell_type": "code",
   "execution_count": 66,
   "metadata": {},
   "outputs": [
    {
     "data": {
      "text/plain": [
       "Vente                                 225235\n",
       "Vente en l'état futur d'achèvement      3578\n",
       "Name: Nature mutation, dtype: int64"
      ]
     },
     "execution_count": 66,
     "metadata": {},
     "output_type": "execute_result"
    }
   ],
   "source": [
    "transactions_types = ['Vente', \"Vente en l'état futur d'achèvement\"]\n",
    "raw_df = raw_df[raw_df['Nature mutation'].isin(transactions_types)]\n",
    "raw_df['Nature mutation'].value_counts()"
   ]
  },
  {
   "cell_type": "markdown",
   "metadata": {},
   "source": [
    "### Save data"
   ]
  },
  {
   "cell_type": "code",
   "execution_count": 67,
   "metadata": {},
   "outputs": [],
   "source": [
    "raw_df.to_csv('../data/processed/train.csv', mode='w')"
   ]
  },
  {
   "cell_type": "markdown",
   "metadata": {},
   "source": [
    "## Data Wrangling"
   ]
  },
  {
   "cell_type": "code",
   "execution_count": 68,
   "metadata": {},
   "outputs": [
    {
     "data": {
      "text/plain": [
       "1   2021-02-16\n",
       "3   2021-04-02\n",
       "4   2021-02-19\n",
       "6   2021-01-27\n",
       "8   2021-01-03\n",
       "Name: Date mutation, dtype: datetime64[ns]"
      ]
     },
     "execution_count": 68,
     "metadata": {},
     "output_type": "execute_result"
    }
   ],
   "source": [
    "raw_df['Date mutation'].dtype\n",
    "raw_df['Date mutation'] = pd.to_datetime(raw_df['Date mutation'])\n",
    "raw_df['Date mutation'].dtype\n",
    "\n",
    "raw_df['Date mutation'].head()"
   ]
  },
  {
   "cell_type": "markdown",
   "metadata": {},
   "source": [
    "### Manage null values"
   ]
  },
  {
   "cell_type": "code",
   "execution_count": 69,
   "metadata": {},
   "outputs": [
    {
     "name": "stdout",
     "output_type": "stream",
     "text": [
      "Series([], dtype: int64)\n"
     ]
    }
   ],
   "source": [
    "null_columns = (raw_df.isnull().sum())\n",
    "print(null_columns[null_columns == 225235])\n",
    "#raw_df.loc[null_columns].isnull().sum()"
   ]
  },
  {
   "cell_type": "markdown",
   "metadata": {},
   "source": [
    "### Manage outliers"
   ]
  },
  {
   "cell_type": "markdown",
   "metadata": {},
   "source": [
    "## Build prediction model"
   ]
  },
  {
   "cell_type": "code",
   "execution_count": 70,
   "metadata": {},
   "outputs": [
    {
     "name": "stdout",
     "output_type": "stream",
     "text": [
      "Model saved\n",
      "Evaluate predictions...\n",
      "Mean Absolute Error: 3732272.323827975\n"
     ]
    }
   ],
   "source": [
    "from sklearn.ensemble import RandomForestRegressor\n",
    "from sklearn.model_selection import train_test_split\n",
    "from sklearn.metrics import mean_absolute_error\n",
    "from joblib import dump\n",
    "\n",
    "X = pd.read_csv('../data/processed/train.csv', low_memory=False)\n",
    "\n",
    "# Temp test before data wrangling\n",
    "X = X.loc[X['Code postal'].notna() & X['Surface reelle bati'].notna() & X['Nombre pieces principales'].notna() & X['Valeur fonciere'].notna()]\n",
    "y = X['Valeur fonciere'].str.replace(',', '.')\n",
    "\n",
    "X = X[['Code postal', 'Surface reelle bati', 'Nombre pieces principales']]\n",
    "#X.drop(['Valeur fonciere'], axis=1, inplace=True)\n",
    "\n",
    "X_train, X_valid, y_train, y_valid = train_test_split(X, y, train_size=0.8, test_size=0.2, random_state=0)\n",
    "model = RandomForestRegressor(n_estimators=50, random_state=0)\n",
    "model.fit(X_train, y_train)\n",
    "\n",
    "dump(model, '../models/model_rfr.joblib', compress=True)\n",
    "print('Model saved')\n",
    "\n",
    "print('Evaluate predictions...')\n",
    "y_preds = model.predict(X_valid)\n",
    "mae = mean_absolute_error(y_valid, y_preds)\n",
    "print(f'Mean Absolute Error: {mae}')"
   ]
  }
 ],
 "metadata": {
  "interpreter": {
   "hash": "c627be1547c7c874688ddee1aaaa67b367275f1752d282bff5eb427acd241334"
  },
  "kernelspec": {
   "display_name": "Python 3.8.10 64-bit",
   "language": "python",
   "name": "python3"
  },
  "language_info": {
   "codemirror_mode": {
    "name": "ipython",
    "version": 3
   },
   "file_extension": ".py",
   "mimetype": "text/x-python",
   "name": "python",
   "nbconvert_exporter": "python",
   "pygments_lexer": "ipython3",
   "version": "3.8.10"
  },
  "orig_nbformat": 4
 },
 "nbformat": 4,
 "nbformat_minor": 2
}
